{
 "cells": [
  {
   "cell_type": "markdown",
   "metadata": {
    "colab_type": "text",
    "id": "q_TCF9A7Snm3"
   },
   "source": [
    "# Playing the Hawk vs. Dove Game\n",
    "\n",
    "Hawk vs. Dove is a Strategy Game in which two agents compete for resources by choosing to either act as a Hawk or a Dove. Hawks symbolise a naturally agressive strategy, whilst Doves represent a more passive approach. \n",
    "\n",
    "The game involves two players who come across a piece of food and must choose a strategy (Hawk or Dove) in order to obtain the food. The chosen strategy, and the strategy of their opponent, determines the payoff that each challenger will obtain from the interaction. Over successive generations and contests, the plyers will amass resources and the winner will be the individual who obtains the most reward.\n",
    "\n",
    "Given the two possible choices of action, Hawk or Dove, we can observe the following rules:\n",
    "\n",
    "\n",
    "* If Player 1 chooses Hawk and Player 2 chooses Hawk, then both Hawks enter into a fight. The winner gets the food, loser gets injured. \n",
    " * Both Player 1 and Player 2 both get a reward of $\\frac{V-I}{2}$ due to the resulting fight.\n",
    " \n",
    " \n",
    "* If Player 1 chooses Dove and Player 2 chooses Dove, then both Doves will put on a bluffing display until one of them leaves, only one player will win the food. \n",
    " * Both Player 1 and Player 2 will therefore get a reward of $\\frac{V}{2}-C$ on average.\n",
    " \n",
    " \n",
    "* If one player chooses Hawk and the other chooses Dove, then a fight ensues. The Dove will immediately flee to incur no injury, and the Hawk gets all of the food. \n",
    " * Hawk will get a reward of $V$ and the Dove gets 0.\n",
    " \n",
    "\n",
    "These situations be described with the following _payoff matrix_:\n",
    "\n",
    "|$\\frac{\\displaystyle\\text{Opponent ➤}}{▼ \\displaystyle \\text{ Player}}$ | Hawk | Dove |\n",
    "|---:|:---:|:--:|\n",
    "| **Hawk** | $$\\frac{(V-I)}{2}$$ | $$V$$ |\n",
    "| **Dove** | $$0$$ | $$ \\frac{V}{2}-C$$ |\n",
    "\n",
    "In the following Jupyter Notebook you can play a game of Hawk Vs. Dove with another player as follows:\n",
    "\n",
    "* Run the next cell and it will begin a game with a fixed number of rounds. \n",
    "* Each of the two players will take it in turn to select either Hawk or Dove\n",
    "* Type your action choice into the text field provided, entering the character **H** for Hawk or __D__ for Dove and pressing the Enter key.\n",
    " * The input method will hide your input, but remember to keep your choice secret from the other player! \n",
    " * If you enter an incorrect character then it will ask you to try again."
   ]
  },
  {
   "cell_type": "code",
   "execution_count": null,
   "metadata": {
    "colab": {},
    "colab_type": "code",
    "id": "JQXMGhTISnm6"
   },
   "outputs": [],
   "source": [
    "import numpy as np\n",
    "from getpass import getpass"
   ]
  },
  {
   "cell_type": "code",
   "execution_count": null,
   "metadata": {
    "colab": {},
    "colab_type": "code",
    "id": "9XWY1Iq-Snm_"
   },
   "outputs": [],
   "source": [
    "class hawk_dove_game:\n",
    "    \n",
    "    def __init__(self, reward, injury_cost, interact_cost):\n",
    "        self.payoff = np.array([[((reward - injury_cost) / 2), reward], \n",
    "                                [0,      (reward / 2 - interact_cost)]])\n",
    "        self.strategy_keys  = ['H', 'D']\n",
    "        self.strategy_names = ['Hawk', 'Dove']\n",
    "\n",
    "        \n",
    "    def evaluate_payoff(self, choices):\n",
    "        return [self.payoff[choices[0], choices[1]], self.payoff[choices[1], choices[0]]]\n",
    "    \n",
    "    def print_round(self, player_choice, rewards):\n",
    "        print('\\n')\n",
    "        print(f'Player 1 chose {self.strategy_names[player_choice[0]]}, Player 2 chose {self.strategy_names[player_choice[1]]}')\n",
    "        print(f'Player 1 obtained a reward of {rewards[0]}')\n",
    "        print(f'Player 2 obtained a reward of {rewards[1]}')\n",
    "        print('\\n')\n",
    "               \n",
    "    def play(self, n_rounds=10):\n",
    "        player_scores = np.zeros(2)\n",
    "        player_choice = [None] * 2       \n",
    "        \n",
    "        for i_round in range(n_rounds):\n",
    "            print(f'{\"-\"*16}\\nRound: {i_round} of {n_rounds - 1}\\n{\"-\"*16}\\n')\n",
    "            \n",
    "            # Players choose their strategy\n",
    "            for i_player in range(len(player_scores)):\n",
    "                player_key = []\n",
    "                \n",
    "                while player_key not in self.strategy_keys:\n",
    "                    input_prompt = f'Player {i_player + 1}, enter choice of strategy (H for Hawk, D for dove, Q to quit game): '\n",
    "                    player_key   = getpass(input_prompt).upper()\n",
    "                    if player_key.upper() == 'Q': \n",
    "                        print('Game quit')\n",
    "                        return\n",
    "                \n",
    "                player_choice[i_player] = 0 if player_key == 'H' else 1\n",
    "            \n",
    "            # Update scores\n",
    "            rewards = self.evaluate_payoff(player_choice)\n",
    "            self.print_round(player_choice, rewards)\n",
    "            player_scores += rewards\n",
    "            \n",
    "        # Print out winner and total resources collected\n",
    "        print('='*20)\n",
    "        if player_scores[0] == player_scores[1]:\n",
    "            print(f'There was a draw. Player 1 has a score of {player_scores[0]}, Player 2 has a score of {player_scores[1]}.')\n",
    "        else:\n",
    "            winner = np.argmax(player_scores)\n",
    "            print(f'The winner of the competition was Player {    winner + 1} with a score of {player_scores[    winner]}.')\n",
    "            print(f'The  loser of the competition was Player {1 - winner + 1} with a score of {player_scores[1 - winner]}.')"
   ]
  },
  {
   "cell_type": "markdown",
   "metadata": {
    "colab_type": "text",
    "id": "KgOolohJSnnB"
   },
   "source": [
    "## Create an instance of our Hawk vs. Dove Game"
   ]
  },
  {
   "cell_type": "code",
   "execution_count": null,
   "metadata": {
    "colab": {},
    "colab_type": "code",
    "id": "iX2bwlkHSnnF"
   },
   "outputs": [],
   "source": [
    "game = hawk_dove_game(reward=50, injury_cost=100, interact_cost=10)"
   ]
  },
  {
   "cell_type": "markdown",
   "metadata": {
    "colab_type": "text",
    "id": "Z9zSY9coSnnL"
   },
   "source": [
    "## Call our _play()_ method to begin a new game\n",
    "Run the below cell to play a game of Hawk Vs. Dove. You can re-run the cell to play another game.\n",
    "\n",
    "**If the game stops working you can restart the notebook by navigating to `[Kernel]` on the top menu and selecting `[Restart Kernel and Run All]`.**"
   ]
  },
  {
   "cell_type": "code",
   "execution_count": null,
   "metadata": {
    "colab": {
     "base_uri": "https://localhost:8080/",
     "height": 1000
    },
    "colab_type": "code",
    "id": "B1gv8KbvSnnN",
    "outputId": "b419b1eb-7b19-43cc-8095-038b7d456786"
   },
   "outputs": [],
   "source": [
    "game.play()"
   ]
  },
  {
   "cell_type": "code",
   "execution_count": null,
   "metadata": {
    "colab": {},
    "colab_type": "code",
    "id": "uAAEUJeDSnnT"
   },
   "outputs": [],
   "source": []
  }
 ],
 "metadata": {
  "colab": {
   "collapsed_sections": [],
   "name": "HawkVsDove_Game.ipynb",
   "provenance": []
  },
  "kernelspec": {
   "display_name": "Python 3",
   "language": "python",
   "name": "python3"
  },
  "language_info": {
   "codemirror_mode": {
    "name": "ipython",
    "version": 3
   },
   "file_extension": ".py",
   "mimetype": "text/x-python",
   "name": "python",
   "nbconvert_exporter": "python",
   "pygments_lexer": "ipython3",
   "version": "3.7.3"
  }
 },
 "nbformat": 4,
 "nbformat_minor": 2
}
