{
 "cells": [
  {
   "cell_type": "markdown",
   "metadata": {
    "colab_type": "text",
    "id": "wQUvfSq1VPc7"
   },
   "source": [
    "# Simulating the Hawk vs. Dove Game\n",
    "\n",
    "Hawk vs. Dove is a Strategy Game which looks to identify an Evolutionary Stable Strategy (ESS) in a population by evaluating the trade-off between the reward and cost of obtaining food. Hawks symbolise a naturally agressive strategy, whilst Doves represent a more passive approach. \n",
    "\n",
    "The game involves two agents (players) who come across a piece of food and must choose a strategy (Hawk or Dove) in order to obtain the food. The chosen strategy, and the strategy of their opponent, determines the payoff that each challenger will obtain from the interaction. Over successive generations and contests, the frequencies of those strategies will change, either resulting in a _Mixed ESS_ or a _Pure ESS_. \n",
    "\n",
    "A _Pure ESS_ is a system in which one strategy always out-competes all other strategies, whereas a _Mixed ESS_ is a system in which possible strategies exhibit some frequency in which they are out-performed by another strategy. In a two-strategy _Mixed ESS_ there exists some frequency at which the strategies are in equilibrium, and increasing the frequency of strategy A beyond this point will result in a decrease in strategy A fitness, raising the relative fitness of strategy B.\n",
    "\n",
    "In the following Jupyter Notebook we will try to identify the point of equilibrium and the Evolutionary Stabel Strategy for a Hawk vs. Dove game. We will also simulate a Hawk vs. Dove game over a number of generations to calculate the optimum frequencies of the two strategies in a stable population.\n",
    "\n",
    "A video to explain the concept of Hawk Vs. Dove (Thanks to Tim): https://www.youtube.com/watch?v=YNMkADpvO4w"
   ]
  },
  {
   "cell_type": "code",
   "execution_count": null,
   "metadata": {
    "colab": {},
    "colab_type": "code",
    "id": "gmGMAeplVPc9"
   },
   "outputs": [],
   "source": [
    "import numpy as np\n",
    "import matplotlib.pyplot as plt\n",
    "plt.rcParams['figure.figsize'] = (9,6)"
   ]
  },
  {
   "cell_type": "markdown",
   "metadata": {
    "colab_type": "text",
    "id": "3VeV9ta0VPdJ"
   },
   "source": [
    "## Part 1: Setting up the game\n",
    "\n",
    "In our simulated Hawk vs. Dove world we must describe a few naturally occuring constants, namely the reward given by the food source $V$, the cost of injury $I$, and the cost of the interaction $C$. These can be changed later, but for the moment let's leave them as they are."
   ]
  },
  {
   "cell_type": "code",
   "execution_count": null,
   "metadata": {
    "colab": {},
    "colab_type": "code",
    "id": "ePbV2wD0VPdL"
   },
   "outputs": [],
   "source": [
    "V = 50 # Reward for food\n",
    "I = 100 # Cost of injury\n",
    "C = 10 # Cost for interaction"
   ]
  },
  {
   "cell_type": "markdown",
   "metadata": {
    "colab_type": "text",
    "id": "aNbU-qUtVPdQ"
   },
   "source": [
    "Remember that in the Hawk vs. Dove game each of the two agents can choose to either act as a Hawk or as a Dove. \n",
    "\n",
    "Let's say that \"Hawk\" is choice 0, and \"Dove\" is choice 1:"
   ]
  },
  {
   "cell_type": "code",
   "execution_count": null,
   "metadata": {
    "colab": {},
    "colab_type": "code",
    "id": "NSgCmi9WVPdS"
   },
   "outputs": [],
   "source": [
    "hawk = 0\n",
    "dove = 1"
   ]
  },
  {
   "cell_type": "markdown",
   "metadata": {
    "colab_type": "text",
    "id": "F7MFHhChVPdd"
   },
   "source": [
    "Given these possible choices, we can observe the following situations:\n",
    "\n",
    "\n",
    "* Player 1 chooses Hawk and Player 2 chooses Hawk. Both Hawks enter into a fight. On average, Player 1 will win the food half of the time and succumb to injury the other half of the time.   \n",
    " * Both Player 1 and Player 2 both get a reward of $\\frac{V-I}{2}$ due to the resulting fight.\n",
    " \n",
    " \n",
    "* Player 1 chooses Dove and Player 2 chooses Dove. Both Doves incur the cost of the interaction, but only one player will win the food. \n",
    " * Both Player 1 and Player 2 will get a reward of $\\frac{V}{2}-C$ on average.\n",
    " \n",
    " \n",
    "* Player 1 chooses Hawk and Player 2 chooses Dove. The Dove runs away, incurring no cost, and the Hawk gets all of the food. \n",
    " * Player 1 will get a reward of $V$ and Player 2 gets 0.\n",
    " \n",
    " \n",
    "* Player 1 chooses Dove and Player 2 chooses Hawk. The Dove runs away, incurring no cost, and the Hawk gets all of the food. \n",
    " * Player 1 will get a reward of 0 and Player 2 gets $V$.\n",
    "\n",
    "\n",
    "This can be described with the following payoff matrix:\n",
    "\n",
    "|$\\frac{\\displaystyle\\text{Opponent ➤}}{▼ \\displaystyle \\text{ Player}}$ | Hawk | Dove |\n",
    "|---:|:---:|:--:|\n",
    "| **Hawk** | $$\\frac{(V-I)}{2}$$ | $$V$$ |\n",
    "| **Dove** | $$0$$ | $$ \\frac{V}{2}-C$$ |\n",
    "\n",
    "\n",
    "We will describe this payoff matrix for the possible action by creating a 2-Dimensional matrix containing the above rewards."
   ]
  },
  {
   "cell_type": "code",
   "execution_count": null,
   "metadata": {
    "colab": {
     "base_uri": "https://localhost:8080/",
     "height": 69
    },
    "colab_type": "code",
    "id": "h_Mn36faVPde",
    "outputId": "217029aa-8605-4d41-9f71-acdb21d028d2"
   },
   "outputs": [
    {
     "name": "stdout",
     "output_type": "stream",
     "text": [
      "Payoff Matrix for Hawk vs. Dove:\n",
      "[[-25.  50.]\n",
      " [  0.  15.]]\n"
     ]
    }
   ],
   "source": [
    "action_payoff = np.array([[(V-I)/2, V],\n",
    "                           [0, V/2-C]])\n",
    "\n",
    "print(\"Payoff Matrix for Hawk vs. Dove:\")\n",
    "print(action_payoff)"
   ]
  },
  {
   "cell_type": "markdown",
   "metadata": {
    "colab_type": "text",
    "id": "pgwc6OFYVPdu"
   },
   "source": [
    "## Part 2: Selecting actions and obtaining rewards \n",
    "In order to identify the reward obtained during a scenario, we will need to _index_ into the payoff matrix depending on the selected actions from each player. \n",
    "\n",
    "_Indexing_ is the process of accessing into a specific location. In our case we will be specifying a **row** and **column** based on the chosen pair of actions.\n",
    "\n",
    "If the player chooses to act like a Hawk, we will have to index into **row 0**. If they choose to act like a Dove then we will index into **row 1**. If the opponent chooses to act like a Hawk then we will index into **column 0**, if they choose to act like a Dove then we will index into **column 1**.\n",
    "\n",
    "By considering both of the choices we will be able to index into the correct location of our 2-Dimensional payoff matrix. If both players choose Hawk, then we will index into location **(0, 0)** of *action_payoff*, and so on. \n",
    "\n",
    "Consider the next cell, in which Player 1 chooses Dove and Player 2 chooses Hawk. Their rewards are then printed:"
   ]
  },
  {
   "cell_type": "code",
   "execution_count": null,
   "metadata": {
    "colab": {
     "base_uri": "https://localhost:8080/",
     "height": 52
    },
    "colab_type": "code",
    "id": "xVPI-xdZVPdx",
    "outputId": "5bcf7d09-0c76-4dbe-96ea-4097fb4586af"
   },
   "outputs": [
    {
     "name": "stdout",
     "output_type": "stream",
     "text": [
      "Player 1's reward: 0.0\n",
      "Player 2's reward: 50.0\n"
     ]
    }
   ],
   "source": [
    "player1_choice = dove\n",
    "player2_choice = hawk\n",
    "\n",
    "player1_reward = action_payoff[player1_choice, player2_choice]\n",
    "player2_reward = action_payoff[player2_choice, player1_choice]\n",
    "\n",
    "print(\"Player 1's reward: {0}\".format(player1_reward))\n",
    "print(\"Player 2's reward: {0}\".format(player2_reward))"
   ]
  },
  {
   "cell_type": "markdown",
   "metadata": {
    "colab_type": "text",
    "id": "4SVzXuMoVPeA"
   },
   "source": [
    "We can see that Player 2's aggressive strategy has paid off!\n",
    "\n",
    "Player two obtained a good reward for choosing Hawk, however Player 1 may see this result and decide to play as a Hawk on the next round:"
   ]
  },
  {
   "cell_type": "code",
   "execution_count": null,
   "metadata": {
    "colab": {
     "base_uri": "https://localhost:8080/",
     "height": 52
    },
    "colab_type": "code",
    "id": "_4rl4vLrVPeC",
    "outputId": "5d800b76-7df9-4449-e7ce-483152013f10"
   },
   "outputs": [
    {
     "name": "stdout",
     "output_type": "stream",
     "text": [
      "Player 1's reward: -25.0\n",
      "Player 2's reward: -25.0\n"
     ]
    }
   ],
   "source": [
    "player1_choice = hawk\n",
    "player2_choice = hawk\n",
    "\n",
    "player1_reward = action_payoff[player1_choice, player2_choice]\n",
    "player2_reward = action_payoff[player2_choice, player1_choice]\n",
    "\n",
    "print(\"Player 1's reward: {0}\".format(player1_reward))\n",
    "print(\"Player 2's reward: {0}\".format(player2_reward))"
   ]
  },
  {
   "cell_type": "markdown",
   "metadata": {
    "colab_type": "text",
    "id": "ZtWtyA69VPeO"
   },
   "source": [
    "In this situation both players have suffered a loss due to the cost of the fight for food.\n",
    "\n",
    "Clearly always selecting Hawk is not a good approach...\n",
    "\n",
    "Both players may then decide to act as a Dove to avoid this penalty:"
   ]
  },
  {
   "cell_type": "code",
   "execution_count": null,
   "metadata": {
    "colab": {
     "base_uri": "https://localhost:8080/",
     "height": 52
    },
    "colab_type": "code",
    "id": "drnkHmITVPeQ",
    "outputId": "dad94bd5-7fa5-47e2-d31a-98013acfd0b9"
   },
   "outputs": [
    {
     "name": "stdout",
     "output_type": "stream",
     "text": [
      "Player 1's reward: 15.0\n",
      "Player 2's reward: 15.0\n"
     ]
    }
   ],
   "source": [
    "player1_choice = dove\n",
    "player2_choice = dove\n",
    "\n",
    "player1_reward = action_payoff[player1_choice, player2_choice]\n",
    "player2_reward = action_payoff[player2_choice, player1_choice]\n",
    "\n",
    "print(\"Player 1's reward: {0}\".format(player1_reward))\n",
    "print(\"Player 2's reward: {0}\".format(player2_reward))"
   ]
  },
  {
   "cell_type": "markdown",
   "metadata": {
    "colab_type": "text",
    "id": "NkRkWTrMVPeW"
   },
   "source": [
    "This works out okay, but we may get a better reward if we had chosen to act as a Hawk!\n",
    "\n",
    "Clearly being purely Dove or Hawk is not a good approach for the whole population. We will need to find a balanced approach to the strategy we choose. In order to do this we can utilise Game Theory to identify where the optimum balance in strategies is. "
   ]
  },
  {
   "cell_type": "markdown",
   "metadata": {
    "colab_type": "text",
    "id": "FvPnM9F3VPeZ"
   },
   "source": [
    "## Part 3: Finding the equilibrium of strategies in a population\n",
    "In order to find which frequency of each strategy is optimal for the population, we will need to run a **simulation** of the game, identifying a suitable approach which maximises our reward on average.\n",
    "\n",
    "The first thing we must do is define the frequency of Hawks and Doves in our population. We will initially set this to be a 50:50 ratio of Hawk:Dove, but you can change this later to see the effect."
   ]
  },
  {
   "cell_type": "code",
   "execution_count": null,
   "metadata": {
    "colab": {},
    "colab_type": "code",
    "id": "o9lZW0v2VPec"
   },
   "outputs": [],
   "source": [
    "hawk_frequency = 0.5\n",
    "dove_frequency = 1 - hawk_frequency"
   ]
  },
  {
   "cell_type": "markdown",
   "metadata": {
    "colab_type": "text",
    "id": "VXatVKD5VPeg"
   },
   "source": [
    "In order to optimise our approach we need to look at the average payoff, or **fitness**, for choosing to purely select one of the strategies, Hawk or Dove. Fitness describes the reward for a given interaction, and is often used in evolutionary strategies to describe the ability of an individual to pass genes on to the next generation. \n",
    "\n",
    "To calculate the average payoff for a strategy, we will need to consider the following equation:\n",
    "\n",
    "$$\\text{AveragePayoff}_{\\text{strategy}}=\\sum_{c}^{\\text{contest}}r(c)\\times{}f(c) $$\n",
    "\n",
    "where $c$ is a given contest in the game, $r(c)$ describes the reward obtained for that contest, and $f(c)$ is the frequency of that contest occuring.\n",
    "\n",
    "In the case of the Hawk and Dove strategies, this results in the following:"
   ]
  },
  {
   "cell_type": "code",
   "execution_count": null,
   "metadata": {
    "colab": {
     "base_uri": "https://localhost:8080/",
     "height": 52
    },
    "colab_type": "code",
    "id": "Nw7AQe6PVPeh",
    "outputId": "cf5cac2f-200b-4be8-e6ca-26a792d50062"
   },
   "outputs": [
    {
     "name": "stdout",
     "output_type": "stream",
     "text": [
      "Average Hawk Payoff in a population with 50% Hawks: 12.5\n",
      "Average Dove Payoff in a population with 50% Hawks: 7.5\n"
     ]
    }
   ],
   "source": [
    "hawk_average_payoff = action_payoff[hawk, hawk] * hawk_frequency + action_payoff[hawk, dove] * dove_frequency\n",
    "dove_average_payoff = action_payoff[dove, hawk] * hawk_frequency + action_payoff[dove, dove] * dove_frequency\n",
    "print('Average Hawk Payoff in a population with {0:.0f}% Hawks: {1}'.format(hawk_frequency*100, hawk_average_payoff))\n",
    "print('Average Dove Payoff in a population with {0:.0f}% Hawks: {1}'.format(hawk_frequency*100, dove_average_payoff))"
   ]
  },
  {
   "cell_type": "markdown",
   "metadata": {
    "colab_type": "text",
    "id": "w-vX1bHQVPes"
   },
   "source": [
    "Using the above, we can see that in a population with 50% Hawks, the Hawk strategy obtains more reward relative to choosing the Dove strategy. \n",
    "\n",
    "In order to calculate the fitness and relative fitness in our simulation, we can define the above fitness calculation for our Hawk Vs. Dove game as the following Python functions:"
   ]
  },
  {
   "cell_type": "code",
   "execution_count": null,
   "metadata": {
    "colab": {},
    "colab_type": "code",
    "id": "X-9LPycHVPet"
   },
   "outputs": [],
   "source": [
    "# Calculate the average payoff for a strategy\n",
    "def calculate_average_payoff(strategy, action_payoff, strategy_frequencies):\n",
    "    average_payoff = np.sum(action_payoff[strategy] * strategy_frequencies)\n",
    "    return average_payoff\n",
    "\n",
    "\n",
    "# Calculate the relative fitness for a strategy\n",
    "def calculate_relative_fitness(strategy, action_payoff, strategy_frequencies):\n",
    "    normalised_action_payoff = (action_payoff - np.min(action_payoff)) / (np.max(action_payoff) - np.min(action_payoff))\n",
    "    fitness = np.sum(normalised_action_payoff[strategy] * strategy_frequencies)\n",
    "    return fitness"
   ]
  },
  {
   "cell_type": "markdown",
   "metadata": {
    "colab_type": "text",
    "id": "lDTFGvTUVPew"
   },
   "source": [
    "## Visualise the Average Payoff of each strategy to the frequency of Hawks in the population\n",
    "Given that our strategy can be anywhere between 0% and 100% of the total population, we can now look at how the average payoff of each strategy compares when one of the other strategies starts to become dominant. To do this we will evaluate our strategy's average payoff at regular possible frequencies between 0 and 1. "
   ]
  },
  {
   "cell_type": "code",
   "execution_count": null,
   "metadata": {
    "colab": {},
    "colab_type": "code",
    "id": "d_v2vQvCVPex"
   },
   "outputs": [],
   "source": [
    "hawk_frequencies = np.linspace(0, 1)\n",
    "hawk_strategy_by_frequency = [calculate_average_payoff(hawk, action_payoff, [i, 1-i]) for i in hawk_frequencies]\n",
    "dove_strategy_by_frequency = [calculate_average_payoff(dove, action_payoff, [i, 1-i]) for i in hawk_frequencies]"
   ]
  },
  {
   "cell_type": "markdown",
   "metadata": {
    "colab_type": "text",
    "id": "S17Hq2oXVPe0"
   },
   "source": [
    "We can then plot these relative fitnesses to identify if and where an equilibrium exists within our population. Notice the point at which the following fitness lines cross. "
   ]
  },
  {
   "cell_type": "code",
   "execution_count": null,
   "metadata": {
    "colab": {
     "base_uri": "https://localhost:8080/",
     "height": 404
    },
    "colab_type": "code",
    "id": "UQ_m5Hz9VPe1",
    "outputId": "a5c812b2-ef44-4d0a-9410-157d9cb20d46"
   },
   "outputs": [
    {
     "data": {
      "image/png": "[encoded data removed]",
      "text/plain": [
       "<Figure size 648x432 with 1 Axes>"
      ]
     },
     "metadata": {
      "tags": []
     },
     "output_type": "display_data"
    }
   ],
   "source": [
    "plt.plot(hawk_frequencies, hawk_strategy_by_frequency)\n",
    "plt.plot(hawk_frequencies, dove_strategy_by_frequency)\n",
    "\n",
    "plt.legend(('Hawk', 'Dove'))\n",
    "plt.xlabel('Ratio of Hawks in population')\n",
    "plt.ylabel('Average Payoff')\n",
    "plt.xlim([0, 1])\n",
    "plt.title('Payoff of Hawk vs. Dove strategies')\n",
    "plt.show()"
   ]
  },
  {
   "cell_type": "markdown",
   "metadata": {
    "colab_type": "text",
    "id": "fQtDLOaxVPe7"
   },
   "source": [
    "## Part 4: Finding the equilibrium point empirically\n",
    "If we want to identify the equilibrium point, the frequency at which our two strategies in the population have equal fitness, then we can compute the intersection of the two relative fitness lines.\n",
    "\n",
    "To do this we will want to convert our calculated fitnesses for each frequency into a slope-intercept form for a line:\n",
    "\n",
    "$$ y_{\\text{strategy}} = m_{\\text{strategy}}x+c_{\\text{strategy}} $$\n",
    "\n",
    "To calculate the gradient, $m_{strategy}$, we solve\n",
    "\n",
    "$$ m_{\\text{strategy}} = \\frac{ \\text{Change in } y_{ \\text{strategy} } }{\\text{Change in x}} $$\n",
    "\n",
    "and to calculate the intercept, $c_{\\text{strategy}}$, we solve for where $x=0$\n",
    "\n",
    "$$ c_{\\text{strategy}} = y_{\\text{strategy}} - m_{\\text{strategy}} \\times{} 0 $$\n",
    "\n",
    "Given this new slope-intercept form we can calculate the intersection point of the two strategies by finding the point at which the resulting $y$ is the same for both strategies:\n",
    "\n",
    "$$ m_{\\text{hawk}}x+c_{\\text{hawk}} = m_{\\text{dove}}x+c_{\\text{dove}} $$\n",
    "\n",
    "Solving to find $x$ gives us:\n",
    "\n",
    "$$\\begin{aligned}\n",
    "m_{\\text{hawk}}x+c_{\\text{hawk}} &= m_{\\text{dove}}x+c_{\\text{dove}} \\\\\n",
    "m_{\\text{hawk}}x+c_{\\text{hawk}} -m_{\\text{dove}}x &= c_{\\text{dove}} \\\\ \n",
    "m_{\\text{hawk}}x -m_{\\text{dove}}x &= c_{\\text{dove}}-c_{\\text{hawk}} \\\\ \n",
    "x(m_{\\text{hawk}} - m_{\\text{dove}}) &= c_{\\text{dove}}-c_{\\text{hawk}} \\\\\n",
    "x &= \\frac{c_{\\text{dove}} - c_{\\text{hawk}}}{m_{\\text{hawk}} -m_{\\text{dove}}}\n",
    "\\end{aligned}$$\n"
   ]
  },
  {
   "cell_type": "code",
   "execution_count": null,
   "metadata": {
    "colab": {},
    "colab_type": "code",
    "id": "toqixkRmVPe9"
   },
   "outputs": [],
   "source": [
    "# calculate slope and intercept of hawk:\n",
    "m_hawk = (hawk_strategy_by_frequency[-1] - hawk_strategy_by_frequency[0]) / (hawk_frequencies[-1] - hawk_frequencies[0])\n",
    "c_hawk = hawk_strategy_by_frequency[0] - m_hawk * hawk_frequencies[0]\n",
    "\n",
    "# calculate slope and intercept of dove:\n",
    "m_dove = (dove_strategy_by_frequency[-1] - dove_strategy_by_frequency[0]) / (hawk_frequencies[-1] - hawk_frequencies[0])\n",
    "c_dove = dove_strategy_by_frequency[0] - m_dove * hawk_frequencies[0]\n",
    "\n",
    "# Calculate intersection point between the two strategies:\n",
    "x_intersection = (c_dove - c_hawk) / (m_hawk - m_dove)\n",
    "y_intersection = m_hawk * x_intersection + c_hawk"
   ]
  },
  {
   "cell_type": "code",
   "execution_count": null,
   "metadata": {
    "colab": {
     "base_uri": "https://localhost:8080/",
     "height": 404
    },
    "colab_type": "code",
    "id": "PxgeUc-_VPfA",
    "outputId": "e7ae3371-8596-44bd-e051-ceff53102614"
   },
   "outputs": [
    {
     "data": {
      "image/png": "[encoded data removed]",
      "text/plain": [
       "<Figure size 648x432 with 1 Axes>"
      ]
     },
     "metadata": {
      "tags": []
     },
     "output_type": "display_data"
    }
   ],
   "source": [
    "# Visualise the equilibrium point \n",
    "plt.plot(hawk_frequencies, hawk_strategy_by_frequency)\n",
    "plt.plot(hawk_frequencies, dove_strategy_by_frequency)\n",
    "plt.scatter(x_intersection, y_intersection)\n",
    "plt.legend(('Hawk', 'Dove', 'Equilibrium point'))\n",
    "plt.xlabel('Ratio of Hawks in population')\n",
    "plt.ylabel('Average Payoff')\n",
    "plt.xlim([0, 1])\n",
    "plt.title(\"Mixed equilibrium with a Hawk frequency of {0:.3f}\".format(x_intersection))\n",
    "plt.show()"
   ]
  },
  {
   "cell_type": "markdown",
   "metadata": {
    "colab_type": "text",
    "id": "PgxB9fjZVPfD"
   },
   "source": [
    "## Part 5: Utilising Game Theory to optimise the frequency of strategies within a population\n",
    "In the above section we can see that there is a point at which an equilibrium of the strategy types is present within the population. We can see that after our equilibrium point if we continue increasing the frequency of Hawks then this results in reduction in fitness below that of Doves. We can also see that increasing the frequency of Doves (or reducing that of Hawks) results in Doves becoming less fit than Hawks. \n",
    "\n",
    "This observation means that no matter which direction we move away from the equilibrium, the relative fitness of one of the strategies is lowered, and thus our population moves back towards the equilibrium.\n",
    "\n",
    "Even though we have calculated the equilibrium point empirically above, we can see that we have to do a lot of work just for a system which contains two possible strategies. In reality we may have numerous possible strategies to choose from, each with their own possible rewards for interactions with other strategies. In order to calculate a population's optimal frequency of strategies we can utilise Game Theory. This will allow us to observe how a population will develop given our payoff matrix and an initial frequency of strategies.\n",
    "\n",
    "In the following section we will simulate this behaviour. We will first choose a number of generations to evaluate and an initial frequency of Hawks within the population. We will then set up some plots and run our simulation over each generation."
   ]
  },
  {
   "cell_type": "code",
   "execution_count": null,
   "metadata": {
    "colab": {
     "base_uri": "https://localhost:8080/",
     "height": 404
    },
    "colab_type": "code",
    "id": "p6CriehAVPfE",
    "outputId": "1c7054e6-e937-42c6-b97b-41413129da2a"
   },
   "outputs": [
    {
     "data": {
      "image/png": "[encoded data removed]",
      "text/plain": [
       "<Figure size 648x432 with 2 Axes>"
      ]
     },
     "metadata": {
      "tags": []
     },
     "output_type": "display_data"
    }
   ],
   "source": [
    "# Starting Parameters\n",
    "n_generation = 40\n",
    "hawk_frequency = 0.01\n",
    "\n",
    "# Set up plots\n",
    "plt.figure()\n",
    "\n",
    "ax1 = plt.subplot(121)\n",
    "ax1.set_xlabel('Generation')\n",
    "ax1.set_ylabel('Relative Fitness')\n",
    "ax1.set_ylim([-0.05,1.05])\n",
    "ax1.set_title('Strategy Frequency')\n",
    "\n",
    "ax2 = plt.subplot(122)\n",
    "ax2.set_xlabel('Generation')\n",
    "ax2.set_ylim([-0.05,1.05])\n",
    "ax2.set_title('Relative Strategy Fitness')\n",
    "\n",
    "# Run simulation over a number of generations to optimise the strategy frequencies\n",
    "for i_generation in range(0, n_generation):\n",
    "    \n",
    "    # Plot current strategy frequencies\n",
    "    ax1.scatter(i_generation, hawk_frequency, c='b')\n",
    "    ax1.scatter(i_generation, 1-hawk_frequency, c='r')\n",
    "    \n",
    "    # Calculate population fitness\n",
    "    hawk_fitness = calculate_relative_fitness(hawk, action_payoff, [hawk_frequency, 1-hawk_frequency])\n",
    "    dove_fitness = calculate_relative_fitness(dove, action_payoff, [hawk_frequency, 1-hawk_frequency]) \n",
    "    \n",
    "    # Calculate relative strategy fitness\n",
    "    reference_strategy = np.max([hawk_fitness, dove_fitness])\n",
    "    hawk_relative_fitness = hawk_fitness / reference_strategy\n",
    "    dove_relative_fitness = dove_fitness / reference_strategy\n",
    "    ax2.scatter(i_generation, hawk_relative_fitness, c='b')\n",
    "    ax2.scatter(i_generation, dove_relative_fitness, c='r')\n",
    "        \n",
    "    # Update Hawk strategy fitness (Dove is updated by proxy)    \n",
    "    hawk_frequency = (hawk_relative_fitness * hawk_frequency)/((hawk_relative_fitness * hawk_frequency)+(dove_relative_fitness * (1-hawk_frequency)))\n",
    "\n",
    "ax1.legend(['Hawk', 'Dove'])\n",
    "ax2.legend(['Hawk', 'Dove']);"
   ]
  },
  {
   "cell_type": "markdown",
   "metadata": {
    "colab_type": "text",
    "id": "p0VE2eavVPfH"
   },
   "source": [
    "Consider the above two plots: \n",
    "\n",
    "* The left plot shows the evolution of the two available strategies over each successive generation. \n",
    " * At first our Hawk population grows slowly, then more rapidly, and then plateaus once it begins to reach the equilibrium point\n",
    " \n",
    " \n",
    "* The right plot shows the evolution of how relatively fit each strategy is over the generations.\n",
    " * Given that Hawks started with a low frequency they exhibit a higher fitness than Doves (Hawks are rare and get into less Hawk-Hawk fights, thus obtain more reward)\n",
    " * Doves begin with a lower relative fitness, as they are easily displaced by the Hawks (even though the hawks are rare). \n",
    " * As the frequency of Hawks in the population increases the Hawk-Hawk contests occur more often, and the Dove's relative fitness increases.\n",
    " \n",
    "We also see from the plots that our system has reached equilibrium at around generation 25. After this generation there is no change in strategy frequency or relative strategy fitness. We have found the optimum _Mixed ESS_ frequencies. "
   ]
  },
  {
   "cell_type": "markdown",
   "metadata": {
    "colab_type": "text",
    "id": "BoXy2OujVPfN"
   },
   "source": [
    "## Part 6: Going further\n",
    "\n",
    "The provided Jupyter Notebook showed a brief introduction to the Hawk Vs. Dove problem, in which we have identified the optimum _Mixed ESS_ frequencies for our two-agent, two-strategy game by simulating the behaviour of a simple evolutionary system. I leave it to you to discuss the following and consider how to apply Game Theory to the problems.\n",
    "\n",
    "* There are many assumptions given in the Hawk Vs. Dove game. Are these all fair assumptions?\n",
    " * Do all rewards in contests have a fixed value? Should $V$ always be the same, or contests yield different reward? Consider a fight over a morsel of food compared to a fight for a banquet meal.\n",
    " * We only consider pure-Hawk and pure-Dove strategies, however can an individual learn a new strategy? Perhaps playing Hawk some time vs. Dove another?\n",
    " * What happens when a new, unseen strategy enters the population?\n",
    " * Individuals in our simulation **always** survive fights and **always** live for one generation only.\n",
    " \n",
    " \n",
    "* The production of the next generation is known as reproduction, often in the real world there are mutations and inheritance across generations, this adds noise into the simulation.\n",
    " * How does noise impact on the simulation?\n",
    " * How would you simulate more realistic reproductive behaviour? Consider looking at Genetic Algorithms.\n",
    " \n",
    " \n",
    "* What effects do the constants $V$, $I$ and $C$ have? \n",
    " * What happens if these are variable? What impact does it have on how complex the simulation is? How faithful is it to the real world?\n",
    " * Try making the cost of injury $I$ less than that of the reward $V$ and re-run the notebook, what happens to the ESS? Is it a pure or mixed ESS now?\n",
    " * How would you introduce more complex variables into your simulation? \n",
    "   * Does food deteriorate over time? \n",
    "   * Do individuals survive more than one generation? \n",
    "   * Does ability to reproduce drop with individual age? \n",
    "   * Are some Hawks stronger than others?\n",
    "   "
   ]
  },
  {
   "cell_type": "code",
   "execution_count": null,
   "metadata": {
    "colab": {},
    "colab_type": "code",
    "id": "5OCrjX1LVz_8"
   },
   "outputs": [],
   "source": []
  }
 ],
 "metadata": {
  "colab": {
   "name": "HawkVsDove_Simulation.ipynb",
   "provenance": []
  },
  "kernelspec": {
   "display_name": "Python 3",
   "language": "python",
   "name": "python3"
  },
  "language_info": {
   "codemirror_mode": {
    "name": "ipython",
    "version": 3
   },
   "file_extension": ".py",
   "mimetype": "text/x-python",
   "name": "python",
   "nbconvert_exporter": "python",
   "pygments_lexer": "ipython3",
   "version": "3.7.3"
  }
 },
 "nbformat": 4,
 "nbformat_minor": 2
}
